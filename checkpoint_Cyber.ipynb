{
  "cells": [
    {
      "cell_type": "markdown",
      "metadata": {
        "id": "view-in-github",
        "colab_type": "text"
      },
      "source": [
        "<a href=\"https://colab.research.google.com/github/bekacynthia/checkpoint_Cyber01/blob/main/checkpoint_Cyber.ipynb\" target=\"_parent\"><img src=\"https://colab.research.google.com/assets/colab-badge.svg\" alt=\"Open In Colab\"/></a>"
      ]
    },
    {
      "cell_type": "code",
      "execution_count": null,
      "metadata": {
        "colab": {
          "base_uri": "https://localhost:8080/"
        },
        "id": "De5onQ-l1eB0",
        "outputId": "8a5e5b06-9e12-4fb8-e29e-f144eca87f50"
      },
      "outputs": [
        {
          "output_type": "stream",
          "name": "stdout",
          "text": [
            "\u001b[K     |████████████████████████████████| 10.1 MB 12.0 MB/s \n",
            "\u001b[K     |████████████████████████████████| 76 kB 4.2 MB/s \n",
            "\u001b[K     |████████████████████████████████| 111 kB 91.3 MB/s \n",
            "\u001b[K     |████████████████████████████████| 181 kB 81.5 MB/s \n",
            "\u001b[K     |████████████████████████████████| 164 kB 85.0 MB/s \n",
            "\u001b[K     |████████████████████████████████| 4.3 MB 65.6 MB/s \n",
            "\u001b[K     |████████████████████████████████| 63 kB 1.3 MB/s \n",
            "\u001b[K     |████████████████████████████████| 131 kB 49.2 MB/s \n",
            "\u001b[K     |████████████████████████████████| 130 kB 51.2 MB/s \n",
            "\u001b[K     |████████████████████████████████| 428 kB 67.4 MB/s \n",
            "\u001b[K     |████████████████████████████████| 793 kB 60.0 MB/s \n",
            "\u001b[K     |████████████████████████████████| 381 kB 76.3 MB/s \n",
            "\u001b[?25h  Building wheel for blinker (setup.py) ... \u001b[?25l\u001b[?25hdone\n",
            "  Building wheel for validators (setup.py) ... \u001b[?25l\u001b[?25hdone\n",
            "\u001b[31mERROR: pip's dependency resolver does not currently take into account all the packages that are installed. This behaviour is the source of the following dependency conflicts.\n",
            "jupyter-console 5.2.0 requires prompt-toolkit<2.0.0,>=1.0.0, but you have prompt-toolkit 3.0.29 which is incompatible.\n",
            "google-colab 1.0.0 requires ipykernel~=4.10, but you have ipykernel 6.13.0 which is incompatible.\n",
            "google-colab 1.0.0 requires ipython~=5.5.0, but you have ipython 7.33.0 which is incompatible.\n",
            "google-colab 1.0.0 requires tornado~=5.1.0; python_version >= \"3.0\", but you have tornado 6.1 which is incompatible.\u001b[0m\n"
          ]
        }
      ],
      "source": [
        "!pip install -q streamlit"
      ]
    },
    {
      "cell_type": "code",
      "execution_count": null,
      "metadata": {
        "colab": {
          "base_uri": "https://localhost:8080/"
        },
        "id": "0gCZdyON5hPc",
        "outputId": "f0375c1d-00f0-44ab-dbca-1e1c32f8da1e"
      },
      "outputs": [
        {
          "output_type": "stream",
          "name": "stdout",
          "text": [
            "\u001b[K     |████████████████████████████████| 3.6 MB 11.8 MB/s \n",
            "\u001b[?25h"
          ]
        }
      ],
      "source": [
        "!pip install -q streamlit-ace"
      ]
    },
    {
      "cell_type": "code",
      "execution_count": null,
      "metadata": {
        "colab": {
          "base_uri": "https://localhost:8080/"
        },
        "id": "sapylqdP5sby",
        "outputId": "6892ea5c-5220-467e-f8c9-d7fbd9bed76f"
      },
      "outputs": [
        {
          "output_type": "stream",
          "name": "stdout",
          "text": [
            "\u001b[?25l\r\u001b[K     |██████▌                         | 10 kB 28.7 MB/s eta 0:00:01\r\u001b[K     |█████████████                   | 20 kB 38.6 MB/s eta 0:00:01\r\u001b[K     |███████████████████▌            | 30 kB 46.7 MB/s eta 0:00:01\r\u001b[K     |██████████████████████████      | 40 kB 13.4 MB/s eta 0:00:01\r\u001b[K     |████████████████████████████████| 50 kB 3.9 MB/s \n",
            "\u001b[?25h  Building wheel for python-levenshtein (setup.py) ... \u001b[?25l\u001b[?25hdone\n"
          ]
        }
      ],
      "source": [
        "!pip install -q fuzzywuzzy[speedup]   "
      ]
    },
    {
      "cell_type": "code",
      "execution_count": null,
      "metadata": {
        "colab": {
          "base_uri": "https://localhost:8080/"
        },
        "id": "t51sIslC5skR",
        "outputId": "41558ecc-a686-48df-a86b-51b6cba0c3f9"
      },
      "outputs": [
        {
          "output_type": "stream",
          "name": "stdout",
          "text": [
            "\u001b[?25l\r\u001b[K     |▍                               | 10 kB 24.6 MB/s eta 0:00:01\r\u001b[K     |▉                               | 20 kB 14.5 MB/s eta 0:00:01\r\u001b[K     |█▎                              | 30 kB 9.8 MB/s eta 0:00:01\r\u001b[K     |█▊                              | 40 kB 8.4 MB/s eta 0:00:01\r\u001b[K     |██▏                             | 51 kB 6.8 MB/s eta 0:00:01\r\u001b[K     |██▋                             | 61 kB 8.0 MB/s eta 0:00:01\r\u001b[K     |███                             | 71 kB 8.7 MB/s eta 0:00:01\r\u001b[K     |███▌                            | 81 kB 8.7 MB/s eta 0:00:01\r\u001b[K     |████                            | 92 kB 9.6 MB/s eta 0:00:01\r\u001b[K     |████▍                           | 102 kB 9.9 MB/s eta 0:00:01\r\u001b[K     |████▉                           | 112 kB 9.9 MB/s eta 0:00:01\r\u001b[K     |█████▎                          | 122 kB 9.9 MB/s eta 0:00:01\r\u001b[K     |█████▊                          | 133 kB 9.9 MB/s eta 0:00:01\r\u001b[K     |██████▏                         | 143 kB 9.9 MB/s eta 0:00:01\r\u001b[K     |██████▋                         | 153 kB 9.9 MB/s eta 0:00:01\r\u001b[K     |███████                         | 163 kB 9.9 MB/s eta 0:00:01\r\u001b[K     |███████▌                        | 174 kB 9.9 MB/s eta 0:00:01\r\u001b[K     |████████                        | 184 kB 9.9 MB/s eta 0:00:01\r\u001b[K     |████████▍                       | 194 kB 9.9 MB/s eta 0:00:01\r\u001b[K     |████████▉                       | 204 kB 9.9 MB/s eta 0:00:01\r\u001b[K     |█████████▎                      | 215 kB 9.9 MB/s eta 0:00:01\r\u001b[K     |█████████▊                      | 225 kB 9.9 MB/s eta 0:00:01\r\u001b[K     |██████████▏                     | 235 kB 9.9 MB/s eta 0:00:01\r\u001b[K     |██████████▌                     | 245 kB 9.9 MB/s eta 0:00:01\r\u001b[K     |███████████                     | 256 kB 9.9 MB/s eta 0:00:01\r\u001b[K     |███████████▍                    | 266 kB 9.9 MB/s eta 0:00:01\r\u001b[K     |███████████▉                    | 276 kB 9.9 MB/s eta 0:00:01\r\u001b[K     |████████████▎                   | 286 kB 9.9 MB/s eta 0:00:01\r\u001b[K     |████████████▊                   | 296 kB 9.9 MB/s eta 0:00:01\r\u001b[K     |█████████████▏                  | 307 kB 9.9 MB/s eta 0:00:01\r\u001b[K     |█████████████▋                  | 317 kB 9.9 MB/s eta 0:00:01\r\u001b[K     |██████████████                  | 327 kB 9.9 MB/s eta 0:00:01\r\u001b[K     |██████████████▌                 | 337 kB 9.9 MB/s eta 0:00:01\r\u001b[K     |███████████████                 | 348 kB 9.9 MB/s eta 0:00:01\r\u001b[K     |███████████████▍                | 358 kB 9.9 MB/s eta 0:00:01\r\u001b[K     |███████████████▉                | 368 kB 9.9 MB/s eta 0:00:01\r\u001b[K     |████████████████▎               | 378 kB 9.9 MB/s eta 0:00:01\r\u001b[K     |████████████████▊               | 389 kB 9.9 MB/s eta 0:00:01\r\u001b[K     |█████████████████▏              | 399 kB 9.9 MB/s eta 0:00:01\r\u001b[K     |█████████████████▋              | 409 kB 9.9 MB/s eta 0:00:01\r\u001b[K     |██████████████████              | 419 kB 9.9 MB/s eta 0:00:01\r\u001b[K     |██████████████████▌             | 430 kB 9.9 MB/s eta 0:00:01\r\u001b[K     |███████████████████             | 440 kB 9.9 MB/s eta 0:00:01\r\u001b[K     |███████████████████▍            | 450 kB 9.9 MB/s eta 0:00:01\r\u001b[K     |███████████████████▉            | 460 kB 9.9 MB/s eta 0:00:01\r\u001b[K     |████████████████████▎           | 471 kB 9.9 MB/s eta 0:00:01\r\u001b[K     |████████████████████▋           | 481 kB 9.9 MB/s eta 0:00:01\r\u001b[K     |█████████████████████           | 491 kB 9.9 MB/s eta 0:00:01\r\u001b[K     |█████████████████████▌          | 501 kB 9.9 MB/s eta 0:00:01\r\u001b[K     |██████████████████████          | 512 kB 9.9 MB/s eta 0:00:01\r\u001b[K     |██████████████████████▍         | 522 kB 9.9 MB/s eta 0:00:01\r\u001b[K     |██████████████████████▉         | 532 kB 9.9 MB/s eta 0:00:01\r\u001b[K     |███████████████████████▎        | 542 kB 9.9 MB/s eta 0:00:01\r\u001b[K     |███████████████████████▊        | 552 kB 9.9 MB/s eta 0:00:01\r\u001b[K     |████████████████████████▏       | 563 kB 9.9 MB/s eta 0:00:01\r\u001b[K     |████████████████████████▋       | 573 kB 9.9 MB/s eta 0:00:01\r\u001b[K     |█████████████████████████       | 583 kB 9.9 MB/s eta 0:00:01\r\u001b[K     |█████████████████████████▌      | 593 kB 9.9 MB/s eta 0:00:01\r\u001b[K     |██████████████████████████      | 604 kB 9.9 MB/s eta 0:00:01\r\u001b[K     |██████████████████████████▍     | 614 kB 9.9 MB/s eta 0:00:01\r\u001b[K     |██████████████████████████▉     | 624 kB 9.9 MB/s eta 0:00:01\r\u001b[K     |███████████████████████████▎    | 634 kB 9.9 MB/s eta 0:00:01\r\u001b[K     |███████████████████████████▊    | 645 kB 9.9 MB/s eta 0:00:01\r\u001b[K     |████████████████████████████▏   | 655 kB 9.9 MB/s eta 0:00:01\r\u001b[K     |████████████████████████████▋   | 665 kB 9.9 MB/s eta 0:00:01\r\u001b[K     |█████████████████████████████   | 675 kB 9.9 MB/s eta 0:00:01\r\u001b[K     |█████████████████████████████▌  | 686 kB 9.9 MB/s eta 0:00:01\r\u001b[K     |██████████████████████████████  | 696 kB 9.9 MB/s eta 0:00:01\r\u001b[K     |██████████████████████████████▍ | 706 kB 9.9 MB/s eta 0:00:01\r\u001b[K     |██████████████████████████████▊ | 716 kB 9.9 MB/s eta 0:00:01\r\u001b[K     |███████████████████████████████▏| 727 kB 9.9 MB/s eta 0:00:01\r\u001b[K     |███████████████████████████████▋| 737 kB 9.9 MB/s eta 0:00:01\r\u001b[K     |████████████████████████████████| 745 kB 9.9 MB/s \n",
            "\u001b[?25h  Building wheel for pyngrok (setup.py) ... \u001b[?25l\u001b[?25hdone\n"
          ]
        }
      ],
      "source": [
        "!pip install -q pyngrok"
      ]
    },
    {
      "cell_type": "code",
      "execution_count": null,
      "metadata": {
        "id": "SuwFW1qw5st5"
      },
      "outputs": [],
      "source": [
        "!streamlit run app.py &>/dev/null&"
      ]
    },
    {
      "cell_type": "code",
      "execution_count": null,
      "metadata": {
        "id": "M2TtfZiG5s2S"
      },
      "outputs": [],
      "source": [
        "from pyngrok import ngrok"
      ]
    },
    {
      "cell_type": "code",
      "execution_count": null,
      "metadata": {
        "colab": {
          "base_uri": "https://localhost:8080/"
        },
        "id": "siMzGSa55s6K",
        "outputId": "f1ce024e-3593-4e8d-b03f-a1954d83bf55"
      },
      "outputs": [
        {
          "output_type": "stream",
          "name": "stdout",
          "text": [
            "Writing app.py\n"
          ]
        }
      ],
      "source": [
        "%%writefile app.py\n",
        "import streamlit as st\n",
        "import re\n",
        "from fuzzywuzzy import process\n",
        "import json\n",
        "import requests as req\n",
        "\n",
        "def main():\n",
        "  forbPas = req.get('https://bekacynthia.github.io/dnk.json')\n",
        "  namesInterpol = req.get('https://cspinheiro.github.io/interpol.json')\n",
        "\n",
        "  def forbNames(names):\n",
        "    fnames = namesInterpol.json()['interpol']\n",
        "    forbidden = []\n",
        "\n",
        "    extract = process.extract(names, fnames)\n",
        "\n",
        "    for x in extract:\n",
        "      if x[1] >= 76:\n",
        "        forbidden.append(x)\n",
        "      if len(forbidden) == 0:\n",
        "        return \"Enter\"\n",
        "      return \"NotEnter\"\n",
        "\n",
        "  def forbiddenPas(passportN):\n",
        "    country = re.search(r'[a-z]{3}', passportN.lower())\n",
        "    number = re.search('(?i)(\\d+)', passportN.lower())\n",
        "    country = str(country[0])                                                                                                                                                  \n",
        "    if country and number:                                                                        \n",
        "      endpoint = forbPas.json()[country]                                                       \n",
        "      for item in endpoint:                                                                         \n",
        "        for value in item.values():                                                                 \n",
        "          if str(passportN) == str(country) + str(value):                                        \n",
        "            return \"NotEnter\"                                                                           \n",
        "     return \"Enter\"                                                                                \n",
        "\n",
        "\n",
        "\n",
        "  def verifyPerson(name, passportNmbr):                                                             \n",
        "    person = forbNames(name)                                                              \n",
        "    passport = forbiddenPas(passportNmbr)                                                     \n",
        "\n",
        "    if passport == \"NotEnter\" or person == \"NotEnter\":                                                      \n",
        "      st.error(\"Você não pode entrar no país\")                                                      \n",
        "      return                                                                                        \n",
        "    st.success(\"Voce pode entrar no país\")                                                          \n",
        "    return                                                                                         \n",
        "\n",
        "\n",
        "\n",
        "  st.set_page_config(page_title=\"Denmark Airport\", layout=\"centered\")                                \n",
        "  st.title(\"Imigration Verifyer\")                                                                 \n",
        "  form = st.form(key=\"form\")                                                                        \n",
        "\n",
        "  with form:                                                                                        \n",
        "    ownerName = st.text_input('Nome do Indíviduo:')                                                 \n",
        "    passportNumber = st.text_input('Número do Passaporte:')                                         \n",
        "    submit = st.form_submit_button(label=\"SEND\")                                                    \n",
        "\n",
        "\n",
        "\n",
        "  if submit:                                                                                        \n",
        "    if not ownerName or not passportNumber:                                                         \n",
        "      st.warning(\"Digite todos os campos por favor...\")                                             \n",
        "    else:                                                                                           \n",
        "      try:                                                                                          \n",
        "        verifyPerson(ownerName, passportNumber)                                                     \n",
        "      except:                                                                                       \n",
        "        st.error(\"ERRO!\")        \n",
        "\n",
        "\n",
        "\n",
        "if __name__=='__main__':                                                                            \n",
        "  main()                 \n",
        "\n",
        "\n",
        "\n",
        "\n"
      ]
    },
    {
      "cell_type": "code",
      "execution_count": 9,
      "metadata": {
        "colab": {
          "base_uri": "https://localhost:8080/"
        },
        "id": "kRyzoRS85s9Z",
        "outputId": "457ee6a4-5c46-4de8-ed9f-bf89bf1c554c"
      },
      "outputs": [
        {
          "output_type": "stream",
          "name": "stdout",
          "text": [
            "2022-05-10 20:55:29.212 INFO    numexpr.utils: NumExpr defaulting to 2 threads.\n",
            "\u001b[K\u001b[?25hnpx: installed 22 in 2.279s\n",
            "\u001b[0m\n",
            "\u001b[34m\u001b[1m  You can now view your Streamlit app in your browser.\u001b[0m\n",
            "\u001b[0m\n",
            "\u001b[34m  Network URL: \u001b[0m\u001b[1mhttp://172.28.0.2:8501\u001b[0m\n",
            "\u001b[34m  External URL: \u001b[0m\u001b[1mhttp://34.141.169.32:8501\u001b[0m\n",
            "\u001b[0m\n",
            "your url is: https://little-windows-agree-34-141-169-32.loca.lt\n",
            "\u001b[34m  Stopping...\u001b[0m\n",
            "^C\n"
          ]
        }
      ],
      "source": [
        "!streamlit run app.py & npx localtunnel --port 8501   "
      ]
    },
    {
      "cell_type": "code",
      "execution_count": null,
      "metadata": {
        "id": "hdKJgknT5tAq"
      },
      "outputs": [],
      "source": [
        ""
      ]
    },
    {
      "cell_type": "code",
      "execution_count": null,
      "metadata": {
        "id": "sZ756Uow5tFp"
      },
      "outputs": [],
      "source": [
        ""
      ]
    },
    {
      "cell_type": "code",
      "execution_count": null,
      "metadata": {
        "id": "-bibwoUB5tNZ"
      },
      "outputs": [],
      "source": [
        ""
      ]
    }
  ],
  "metadata": {
    "colab": {
      "name": "checkpoint_Cyber.ipynb",
      "provenance": [],
      "authorship_tag": "ABX9TyOnzFJKMRRPj6DVe7BghB5n",
      "include_colab_link": true
    },
    "kernelspec": {
      "display_name": "Python 3",
      "name": "python3"
    },
    "language_info": {
      "name": "python"
    }
  },
  "nbformat": 4,
  "nbformat_minor": 0
}